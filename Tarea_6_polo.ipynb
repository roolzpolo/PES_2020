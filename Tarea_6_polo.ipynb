{
 "cells": [
  {
   "cell_type": "markdown",
   "metadata": {},
   "source": [
    "## Clase `Dice`\n",
    "\n",
    "Implementar una clase denominada `Dice`, que funcione como un conjunto de $n$ dados. La clase debe recibir como argumento el número de dados a tirar. Además, la clase debe implementar:\n",
    "\n",
    "- Un método de `roll()` que simula la tirada de los $n$ dados y guarda internamente una lista con los valores resultantes. No devuelve nada.\n",
    "    \n",
    "    - Si no se ha llamado a `roll()`, la lista interna debe ser vacía.\n",
    "\n",
    "- Un método `getLastRoll()` que devuelve la lista con los valores de la última tirada.\n",
    "\n",
    "- Un método `getRollSum()` que devuelve la suma de los valores de la última tirada.\n",
    "\n",
    "    - Si no se ha llamado a `roll()`, debe devolver cero."
   ]
  },
  {
   "cell_type": "code",
   "execution_count": 114,
   "metadata": {},
   "outputs": [
    {
     "data": {
      "text/plain": [
       "19"
      ]
     },
     "execution_count": 114,
     "metadata": {},
     "output_type": "execute_result"
    }
   ],
   "source": [
    "# Ayuda, utilizar la siguiente función del módulo random \n",
    "import random \n",
    "random.randint(1,6) \n",
    " \n",
    "class Dice: \n",
    "    def __init__(self, n): \n",
    "        self.n = [] \n",
    "        return \n",
    "    def Roll(self,n): \n",
    "        self.n = [random.randint(1,6)for i in range(n)] \n",
    "        lista = self.n \n",
    "        return lista \n",
    "    def getLastRoll(self,n): \n",
    "        self.n = self.n[-1] \n",
    "        return \n",
    "    def getRollSum(self,n): \n",
    "        self.n = [random.randint(1,6)for i in range(n)] \n",
    "        lista = self.n \n",
    "        suma = 0 \n",
    "        for i in lista: \n",
    "            suma=suma+i                       \n",
    "        return suma \n",
    "         \n",
    "a = Dice(6) \n",
    "a.Roll(6) \n",
    "# Devuelve lista vacía \n",
    " \n",
    "a.getLastRoll(6) \n",
    "# Devuelve lista con dos números \n",
    " \n",
    "a.getRollSum(6) \n",
    "# Devuelve la suma de los números de la lista anterior \n"
   ]
  },
  {
   "cell_type": "markdown",
   "metadata": {},
   "source": [
    "## Herencia de la clase `Rectangle`"
   ]
  },
  {
   "cell_type": "code",
   "execution_count": 1,
   "metadata": {},
   "outputs": [],
   "source": [
    "class Rectangle:\n",
    "    def __init__(self, base, altura):\n",
    "        self.base = base\n",
    "        self.altura = altura\n",
    "        \n",
    "    def area(self):\n",
    "        return self.base * self.altura\n",
    "    \n",
    "    def perimeter(self):\n",
    "        return (2*self.base) + (2*self.altura)\n",
    "    \n",
    "class Square(Rectangle):\n",
    "    '''\n",
    "        Redefinir el método constructor, sin redefinir las funciones de área\n",
    "        y perímetro, para que un objeto de tipo Square con:\n",
    "            .area() devuelva el área de un cuadrado de tamaño base y\n",
    "            .perimeter() devuelva el perímetro del cuadrado\n",
    "    '''\n",
    "    def __init__(self, base):\n",
    "        self.base = base\n",
    "        pass\n",
    "    def area2(self):\n",
    "        return self.base**2\n",
    "class Cube(Square):\n",
    "    '''\n",
    "        Heredar de Square todos los métodos (incluido el constructor) y \n",
    "        agregar un método para obtener el volumen de un objeto de tipo Cube.\n",
    "    '''\n",
    "    def volume(self):\n",
    "        self.base = base\n",
    "        self.altura = base\n",
    "        self.deep = base\n",
    "        pass"
   ]
  },
  {
   "cell_type": "markdown",
   "metadata": {},
   "source": [
    "Nota: instancie algunos objetos y muestre que sus métodos funcionan correctamente."
   ]
  },
  {
   "cell_type": "code",
   "execution_count": null,
   "metadata": {},
   "outputs": [],
   "source": []
  },
  {
   "cell_type": "markdown",
   "metadata": {},
   "source": [
    "## Programando nuestro propio *Blockchain*\n",
    "\n",
    "Crear una clase denominada `Block` que almacene un diccionario con transacciones. La clase `Block` debe implementar:\n",
    "\n",
    "- Atributo de transacciones, representado con un diccionario `transactions`. Las llaves pueden ser alfanuméricas y los valores del diccionario representan los débitos ($-$) o créditos ($+$) relativas a una transacción.\n",
    "\n",
    "- Atributos `previousBlock` y `nextBlock` que apuntan a objetos tipo `Block` para referir al anterior y siguiente \"bloque\" en la cadena.\n",
    "    - Estos deben ser `None` por defecto en el constructor.\n",
    "    - Se deben programar métodos *getter* y *setter* para acceder y modificar estos atributos.\n",
    "    \n",
    "- Un método `getBlockID()` para obtener el ID de un bloque específico utilizando **variables de clase**.\n",
    "\n",
    "- Un método `getTransactions()` para obtener **una copia** del diccionario de transacciones.\n",
    "\n",
    "- La asignación consiste en completar el método `getBalanceFromHere()`, que computa el balance de las cuentas desde el bloque actual hasta el final del *blockchain*."
   ]
  },
  {
   "cell_type": "code",
   "execution_count": 15,
   "metadata": {},
   "outputs": [],
   "source": [
    "class Block:\n",
    "    \n",
    "    blockCount = 0\n",
    "    \n",
    "    # Inicializa el bloque con el diccionario de transacciones \n",
    "    def __init__(self, transactions={}, previousBlock=None, nextBlock=None):\n",
    "        self.transactions = transactions\n",
    "        self.previousBlock = None\n",
    "        self.nextBlock = None\n",
    "        self.blockID = Block.blockCount\n",
    "        Block.blockCount += 1\n",
    "        \n",
    "    # Muestra el número de instancia y sus transacciones\n",
    "    def __str__(self):\n",
    "        return \"Block %d: \" % self.blockID + str(self.transactions)\n",
    "        \n",
    "    # Obtener el ID del bloque\n",
    "    def getBlockID(self):\n",
    "        return self.blockID\n",
    "    def getTransactions(self):\n",
    "        return self.transactions.copy()\n",
    "    \n",
    "    # Getters y setters para obtener bloque anterior y siguiente\n",
    "    def setPreviousBlock(self, block):\n",
    "        self.previousBlock = block\n",
    "    def getPreviousBlock(self):\n",
    "        return self.previousBlock\n",
    "    def setNextBlock(self, block):\n",
    "        self.nextBlock = block\n",
    "        block.setPreviousBlock(self)\n",
    "    def getNextBlock(self):\n",
    "        return self.nextBlock\n",
    "    \n",
    "    ''' Completar para computar la función de \n",
    "        balance a partir de este bloque. Devuelve un \n",
    "        diccionario con las llaves y su balance acumulado\n",
    "        a partir de este bloque (incluyendo las transacciones\n",
    "        de este bloque).\n",
    "    '''\n",
    "    def getBalanceFromHere(self):\n",
    "        if self.blockID==0:                \n",
    "                return  {'A':40,'B':0,'C':20} #el bloque inicial\n",
    "        else:\n",
    "            balance = {}\n",
    "            prevBlock = self.getPreviousBlock().getBalanceFromHere()\n",
    "            nxtBlock = self.getPreviousBlock().getTransactions()\n",
    "            for a in prevBlock:\n",
    "                balance[a]=prevBlock[a]\n",
    "                if a in nxtBlock:\n",
    "                    balance[a]=prevBlock[a]-nxtBlock[a]\n",
    "            return balance\n",
    "            pass"
   ]
  },
  {
   "cell_type": "code",
   "execution_count": 16,
   "metadata": {},
   "outputs": [
    {
     "name": "stdout",
     "output_type": "stream",
     "text": [
      "Block 0: {'A': 50, 'B': -10, 'C': 5}\n",
      "Block 1: {'A': -10, 'C': 10}\n",
      "Block 2: {'B': 10, 'C': 5}\n"
     ]
    }
   ],
   "source": [
    "# Creamos algunos bloques con transacciones\n",
    "B0 = Block({'A': 50, 'B': -10, 'C': 5})\n",
    "B1 = Block({'A':-10, 'C':+10})\n",
    "B2 = Block({'B':+10, 'C':+5})\n",
    "print(B0, B1, B2, sep='\\n')"
   ]
  },
  {
   "cell_type": "code",
   "execution_count": 17,
   "metadata": {},
   "outputs": [],
   "source": [
    "# Configuramos la cadena de bloques\n",
    "B0.setNextBlock(B1)\n",
    "B1.setNextBlock(B2)"
   ]
  },
  {
   "cell_type": "code",
   "execution_count": 9,
   "metadata": {},
   "outputs": [
    {
     "name": "stdout",
     "output_type": "stream",
     "text": [
      "Block 1: {'A': -10, 'C': 10}\n",
      "Block 2: {'B': 10, 'C': 5}\n"
     ]
    }
   ],
   "source": [
    "print(B0.getNextBlock())\n",
    "print(B1.getNextBlock())"
   ]
  },
  {
   "cell_type": "code",
   "execution_count": 10,
   "metadata": {},
   "outputs": [
    {
     "name": "stdout",
     "output_type": "stream",
     "text": [
      "Block 0: {'A': 50, 'B': -10, 'C': 5}\n",
      "Block 1: {'A': -10, 'C': 10}\n"
     ]
    }
   ],
   "source": [
    "print(B1.getPreviousBlock())\n",
    "print(B2.getPreviousBlock())"
   ]
  },
  {
   "cell_type": "code",
   "execution_count": 11,
   "metadata": {},
   "outputs": [
    {
     "name": "stdout",
     "output_type": "stream",
     "text": [
      "None\n"
     ]
    }
   ],
   "source": [
    "print(B0.getPreviousBlock())\n",
    "# Devuelve None"
   ]
  },
  {
   "cell_type": "code",
   "execution_count": 12,
   "metadata": {},
   "outputs": [
    {
     "name": "stdout",
     "output_type": "stream",
     "text": [
      "None\n"
     ]
    }
   ],
   "source": [
    "print(B2.getNextBlock())\n",
    "# Devuelve None"
   ]
  },
  {
   "cell_type": "code",
   "execution_count": 13,
   "metadata": {},
   "outputs": [
    {
     "data": {
      "text/plain": [
       "{'A': -10, 'B': 10, 'C': 15}"
      ]
     },
     "execution_count": 13,
     "metadata": {},
     "output_type": "execute_result"
    }
   ],
   "source": [
    "B1.getBalanceFromHere()\n",
    "# Debe devolver {'A': -10, 'C': 15, 'B': 10}"
   ]
  },
  {
   "cell_type": "code",
   "execution_count": 14,
   "metadata": {},
   "outputs": [
    {
     "data": {
      "text/plain": [
       "{'A': 40, 'B': 0, 'C': 20}"
      ]
     },
     "execution_count": 14,
     "metadata": {},
     "output_type": "execute_result"
    }
   ],
   "source": [
    "B0.getBalanceFromHere()\n",
    "# Debe devolver {'A': 40, 'B': 0, 'C': 20}"
   ]
  },
  {
   "cell_type": "code",
   "execution_count": null,
   "metadata": {},
   "outputs": [],
   "source": []
  }
 ],
 "metadata": {
  "kernelspec": {
   "display_name": "Python 3",
   "language": "python",
   "name": "python3"
  },
  "language_info": {
   "codemirror_mode": {
    "name": "ipython",
    "version": 3
   },
   "file_extension": ".py",
   "mimetype": "text/x-python",
   "name": "python",
   "nbconvert_exporter": "python",
   "pygments_lexer": "ipython3",
   "version": "3.7.4"
  }
 },
 "nbformat": 4,
 "nbformat_minor": 2
}
