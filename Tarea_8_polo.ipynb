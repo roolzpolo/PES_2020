{
 "cells": [
  {
   "cell_type": "markdown",
   "metadata": {},
   "source": [
    "# Tarea día 8\n",
    "**Programación I**"
   ]
  },
  {
   "cell_type": "markdown",
   "metadata": {},
   "source": [
    "## Ejercicio 1\n",
    "\n",
    "Cree una matriz que contenga ceros. Rellene la mitad de ellos aleatoriamente con unos."
   ]
  },
  {
   "cell_type": "code",
   "execution_count": 12,
   "metadata": {},
   "outputs": [
    {
     "data": {
      "text/plain": [
       "array([[0.47923738, 0.9118805 , 0.61160128, 0.1890884 , 0.9923572 ],\n",
       "       [0.37210799, 0.83344813, 0.07648816, 0.54174648, 0.83251698],\n",
       "       [0.56927111, 0.40786621, 0.77623067, 0.63876567, 0.7529063 ],\n",
       "       [0.59654199, 0.00356336, 0.77215929, 0.15309234, 0.2613146 ],\n",
       "       [0.17517249, 0.15165698, 0.24984271, 0.92925859, 0.31151145]])"
      ]
     },
     "execution_count": 12,
     "metadata": {},
     "output_type": "execute_result"
    }
   ],
   "source": [
    "import numpy as np\n",
    "aleatorios = np.random.random((5, 5))\n",
    "aleatorios\n"
   ]
  },
  {
   "cell_type": "markdown",
   "metadata": {},
   "source": [
    "## Ejercicio 2\n",
    "Cree dos matrices de dimensiones $(5,2)$. La primera rellena de ceros y la siguiente de unos. \n",
    "1.\tConvierta las matrices en vectores columna. \n",
    "2.\tApile ambos vectores a lo largo de una tercera dimensión. \n",
    "3.\tCon las matrices originales, conviértalas en vectores fila y concaténelos verticalmente. \n"
   ]
  },
  {
   "cell_type": "code",
   "execution_count": 50,
   "metadata": {},
   "outputs": [
    {
     "data": {
      "text/plain": [
       "array([[1., 0.],\n",
       "       [1., 0.],\n",
       "       [1., 0.],\n",
       "       [1., 0.],\n",
       "       [1., 0.]])"
      ]
     },
     "execution_count": 50,
     "metadata": {},
     "output_type": "execute_result"
    }
   ],
   "source": [
    "import numpy as np\n",
    "\n",
    "#Crear dos matrices con ceros y unos\n",
    "unos = np.ones((5, 2))\n",
    "cero = np.zeros((5, 2))\n",
    "\n",
    "\n",
    "# 1. convertir matrix en vector columnas\n",
    "\n",
    "vector1 = unos[:,0:1]\n",
    "vector2 = cero[:,0:1]\n",
    "\n",
    "# 2. Ampliar a R3\n",
    "\n",
    "a = np.ones((5, ))\n",
    "b = np.zeros((5, ))\n",
    "arraylist = [a, b]\n",
    "\n",
    "outarr = np.ones((np.max([len(ps) for ps in arraylist]),len(arraylist)))*np.nan #define empty array\n",
    "for i,c in enumerate(arraylist):  #populate columns\n",
    "       outarr[:len(c),i]=c\n",
    "outarr\n",
    "\n",
    "#3. Concatenar vectores fila con vectores columna\n",
    "\n"
   ]
  },
  {
   "cell_type": "markdown",
   "metadata": {},
   "source": [
    "## Ejercicio 3\n",
    "\n",
    "Dada la función $f(x,y,z) = 2x +3y + z^2$\n",
    "1.\tGenere una matriz con números aleatorios, donde cada columna sea una variable. \n",
    "2.\tEvalúe la matriz anterior en la función. El resultado debe ser una vector columna. "
   ]
  },
  {
   "cell_type": "code",
   "execution_count": 5,
   "metadata": {},
   "outputs": [
    {
     "data": {
      "text/plain": [
       "[array([2.04716136, 4.5697351 , 2.8360525 ])]"
      ]
     },
     "execution_count": 5,
     "metadata": {},
     "output_type": "execute_result"
    }
   ],
   "source": [
    "# generar matriz con aleatorios\n",
    "import numpy as np\n",
    "\n",
    "ale = np.random.random((3, 3))\n",
    "\n",
    "\n",
    "def evaluar(x,y,z):\n",
    "    x = ale[0]\n",
    "    y = ale[1]\n",
    "    z = ale[2]\n",
    "    solucion = [(2*x)+(3*y)+(z**2)]\n",
    "    return solucion\n",
    "\n",
    "evaluar(x,y,z)\n",
    "\n"
   ]
  },
  {
   "cell_type": "markdown",
   "metadata": {},
   "source": [
    "## Ejercicio 4\n",
    "\n",
    "Suponga que dentro de un cuadrado de lado 50 cm, hay un cuadrado de 20cm. Ambos cuadrados comparten centro. Estime el área del cuadrado interno por método Monte Carlo. [Consulte Aquí]( http://mathonweb.com/entrtain/monte/t_monte.htm)"
   ]
  },
  {
   "cell_type": "code",
   "execution_count": 123,
   "metadata": {},
   "outputs": [
    {
     "data": {
      "text/plain": [
       "26594.8179"
      ]
     },
     "execution_count": 123,
     "metadata": {},
     "output_type": "execute_result"
    }
   ],
   "source": [
    "a = int(2500)\n",
    "n = 10000 #simulacion\n",
    "\n",
    "x = np.random.random(n)*50 #datos aleatorios\n",
    "\n",
    "y = np.random.random(n)*50 #datos aleatorios\n",
    "\n",
    "#delimitacion de area\n",
    "\n",
    "X = np.logical_and(15<x , x<35) \n",
    "Y = np.logical_and(15<y , y<35)\n",
    "z = np.logical_and(X,Y)\n",
    "\n",
    "#sumatoria de puntos fuera y dentro\n",
    "inside_dots = z.sum()\n",
    "\n",
    "area_objeto = area*(inside_dots/n)\n",
    "\n",
    "area_objeto"
   ]
  },
  {
   "cell_type": "markdown",
   "metadata": {},
   "source": [
    "## Ejercicio 5\n",
    "\n",
    "### *Tarea*\n",
    "\n",
    "1. De las siguientes secciones, escoger 73 funciones de NumPy y mostrar su utilización en un ejemplo.\n",
    "\n",
    "    - [Array creation routines](https://numpy.org/devdocs/reference/routines.array-creation.html)\n",
    "\n",
    "    - [Array manipulation routines](https://numpy.org/devdocs/reference/routines.array-manipulation.html)\n",
    "\n",
    "    - [Binary operations](https://numpy.org/devdocs/reference/routines.bitwise.html)\n",
    "\n",
    "    - [String operations](https://numpy.org/devdocs/reference/routines.char.html)\n",
    "    \n",
    "\n",
    "2. Crear un ejemplo de cómo guardar y cargar arreglos de un archivo binario `.npy` y `.npz`:\n",
    "\n",
    "    - [NumPy binary files (NPY, NPZ)](https://numpy.org/devdocs/reference/routines.io.html#numpy-binary-files-npy-npz)\n",
    "    \n",
    "3. Crear un ejemplo de cómo guardar y cargar arreglos de un archivo de texto `.txt`:\n",
    "\n",
    "    - [NumPy Text files](https://numpy.org/devdocs/reference/routines.io.html#text-files)    \n",
    "    \n",
    "4. Crear una función llamada `estimacionMCO` que lea un archivo CSV con 7 columnas, que corresponden a las variables $(x_{1i}, \\ldots, x_{6i})$ y $y_i$. \n",
    "    - La función debe computar matricialmente los parámetros del modelo de regresión lineal: $y = X\\beta$. \n",
    "    - Estos parámetros deben ser devueltos como un arreglo de NumPy. \n",
    "\n",
    "    - Utilice la función de lectura de archivos de NumPy."
   ]
  },
  {
   "cell_type": "code",
   "execution_count": 86,
   "metadata": {},
   "outputs": [
    {
     "data": {
      "text/plain": [
       "array([2., 3., 4., 5., 6., 7., 8., 9.])"
      ]
     },
     "execution_count": 86,
     "metadata": {},
     "output_type": "execute_result"
    }
   ],
   "source": [
    "import numpy as np\n",
    "\n",
    "#array creation\n",
    "\n",
    "np.arange(2, 10, dtype=float)\n",
    "\n",
    "\n",
    "\n"
   ]
  },
  {
   "cell_type": "code",
   "execution_count": 75,
   "metadata": {},
   "outputs": [
    {
     "data": {
      "text/plain": [
       "array([[         0,          0,          0,          0,          0,\n",
       "                 0,          0],\n",
       "       [         0,          0,          0,          0,          0,\n",
       "         824180736, 1563500588]])"
      ]
     },
     "execution_count": 75,
     "metadata": {},
     "output_type": "execute_result"
    }
   ],
   "source": [
    "#1 regresa un nuevo array de una shape y typo, sin las entradas\n",
    "\n",
    "np.empty([2, 7], dtype=int)\n"
   ]
  },
  {
   "cell_type": "code",
   "execution_count": 77,
   "metadata": {},
   "outputs": [
    {
     "data": {
      "text/plain": [
       "array([[1., 1., 1.],\n",
       "       [1., 1., 1.]])"
      ]
     },
     "execution_count": 77,
     "metadata": {},
     "output_type": "execute_result"
    }
   ],
   "source": [
    "#2 regresa un nuevo array conla misma shape y type \n",
    "\n",
    "b = np.array([[1., 2., 3.],[4.,5.,6.]])\n",
    "np.empty_like(b)\n"
   ]
  },
  {
   "cell_type": "code",
   "execution_count": 80,
   "metadata": {},
   "outputs": [
    {
     "data": {
      "text/plain": [
       "array([[1., 0., 0.],\n",
       "       [0., 1., 0.],\n",
       "       [0., 0., 1.]])"
      ]
     },
     "execution_count": 80,
     "metadata": {},
     "output_type": "execute_result"
    }
   ],
   "source": [
    "#3 equivalente a identity function\n",
    "\n",
    "np.eye(3,k=0)"
   ]
  },
  {
   "cell_type": "code",
   "execution_count": 82,
   "metadata": {},
   "outputs": [
    {
     "data": {
      "text/plain": [
       "array([[1., 1., 1.],\n",
       "       [1., 1., 1.],\n",
       "       [1., 1., 1.]])"
      ]
     },
     "execution_count": 82,
     "metadata": {},
     "output_type": "execute_result"
    }
   ],
   "source": [
    "#4 regresa una matriz solo de 1\n",
    "np.ones((3, 3))\n"
   ]
  },
  {
   "cell_type": "code",
   "execution_count": 83,
   "metadata": {},
   "outputs": [
    {
     "data": {
      "text/plain": [
       "array([[0., 0., 0., 0., 0., 0., 0., 0., 0.],\n",
       "       [0., 0., 0., 0., 0., 0., 0., 0., 0.],\n",
       "       [0., 0., 0., 0., 0., 0., 0., 0., 0.],\n",
       "       [0., 0., 0., 0., 0., 0., 0., 0., 0.],\n",
       "       [0., 0., 0., 0., 0., 0., 0., 0., 0.]])"
      ]
     },
     "execution_count": 83,
     "metadata": {},
     "output_type": "execute_result"
    }
   ],
   "source": [
    "#5 regresa una matriz solo de 0\n",
    "np.zeros((5,9))\n"
   ]
  },
  {
   "cell_type": "code",
   "execution_count": 88,
   "metadata": {},
   "outputs": [
    {
     "data": {
      "text/plain": [
       "array([[1, 2],\n",
       "       [1, 2]])"
      ]
     },
     "execution_count": 88,
     "metadata": {},
     "output_type": "execute_result"
    }
   ],
   "source": [
    "#6  regresa un arreglo con shape de una casilla llena\n",
    "np.full((2, 2), [1, 2])"
   ]
  },
  {
   "cell_type": "code",
   "execution_count": 89,
   "metadata": {},
   "outputs": [
    {
     "data": {
      "text/plain": [
       "array([1, 2, 3])"
      ]
     },
     "execution_count": 89,
     "metadata": {},
     "output_type": "execute_result"
    }
   ],
   "source": [
    "#7 crea un arregl\n",
    "np.array([1, 2, 3])\n"
   ]
  },
  {
   "cell_type": "code",
   "execution_count": 90,
   "metadata": {},
   "outputs": [
    {
     "data": {
      "text/plain": [
       "array([1, 2])"
      ]
     },
     "execution_count": 90,
     "metadata": {},
     "output_type": "execute_result"
    }
   ],
   "source": [
    "#8 convierte el input en un array\n",
    "a = [1, 2]\n",
    "np.asarray(a)"
   ]
  },
  {
   "cell_type": "code",
   "execution_count": 8,
   "metadata": {},
   "outputs": [
    {
     "data": {
      "text/plain": [
       "True"
      ]
     },
     "execution_count": 8,
     "metadata": {},
     "output_type": "execute_result"
    }
   ],
   "source": [
    "#9 convierte el input en un ndarray en orden de la columna mayor\n",
    "\n",
    "x = np.arange(6).reshape(2,3)\n",
    "np.ascontiguousarray(x, dtype=np.float32)\n",
    "\n",
    "x.flags['C_CONTIGUOUS']\n",
    "\n"
   ]
  },
  {
   "cell_type": "code",
   "execution_count": 13,
   "metadata": {},
   "outputs": [
    {
     "data": {
      "text/plain": [
       "matrix([[7, 2],\n",
       "        [3, 4]])"
      ]
     },
     "execution_count": 13,
     "metadata": {},
     "output_type": "execute_result"
    }
   ],
   "source": [
    "#10 ingresa un dato en el espacio de x\n",
    "\n",
    "\n",
    "x = np.array([[8, 2], [3, 4]])\n",
    "m = np.asmatrix(x)\n",
    "x[0,0] = 7\n",
    "\n",
    "m"
   ]
  },
  {
   "cell_type": "code",
   "execution_count": 17,
   "metadata": {},
   "outputs": [
    {
     "data": {
      "text/plain": [
       "array([b'w', b'o', b'r', b'l', b'd'], dtype='|S1')"
      ]
     },
     "execution_count": 17,
     "metadata": {},
     "output_type": "execute_result"
    }
   ],
   "source": [
    "#11 interpreta el buffer como un arrego unidimensional\n",
    "\n",
    "s = b'hello world'\n",
    "np.frombuffer(s, dtype='S1', count=5, offset=6)\n",
    "\n",
    "\n"
   ]
  },
  {
   "cell_type": "code",
   "execution_count": 18,
   "metadata": {},
   "outputs": [
    {
     "data": {
      "text/plain": [
       "array([[ True, False, False],\n",
       "       [False,  True, False],\n",
       "       [False, False,  True]])"
      ]
     },
     "execution_count": 18,
     "metadata": {},
     "output_type": "execute_result"
    }
   ],
   "source": [
    "#12 construye un array ejecutando una funcion sobre una coordenada\n",
    "\n",
    "np.fromfunction(lambda i, j: i == j, (3, 3), dtype=int)\n"
   ]
  },
  {
   "cell_type": "code",
   "execution_count": 19,
   "metadata": {},
   "outputs": [
    {
     "data": {
      "text/plain": [
       "array([ 0.,  1.,  4.,  9., 16.])"
      ]
     },
     "execution_count": 19,
     "metadata": {},
     "output_type": "execute_result"
    }
   ],
   "source": [
    "#13 crea un nuevo array unidimensional desde un objeto iterable\n",
    "\n",
    "iterable = (x*x for x in range(5))\n",
    "np.fromiter(iterable, float)"
   ]
  },
  {
   "cell_type": "code",
   "execution_count": 22,
   "metadata": {},
   "outputs": [
    {
     "data": {
      "text/plain": [
       "array([ 19, 226])"
      ]
     },
     "execution_count": 22,
     "metadata": {},
     "output_type": "execute_result"
    }
   ],
   "source": [
    "#14 crea un array unidimensional desde data en texto en un string\n",
    "\n",
    "np.fromstring('19, 226', dtype=int, sep=',')"
   ]
  },
  {
   "cell_type": "code",
   "execution_count": 26,
   "metadata": {},
   "outputs": [
    {
     "data": {
      "text/plain": [
       "array([[0., 1.],\n",
       "       [2., 3.]])"
      ]
     },
     "execution_count": 26,
     "metadata": {},
     "output_type": "execute_result"
    }
   ],
   "source": [
    "#15  carga data desde un archivo de texto externo\n",
    "\n",
    "from io import StringIO   # StringIO se comporta como si fuese un txt externo\n",
    "\n",
    "c = StringIO(u\"0 1\\n2 3\")\n",
    "np.loadtxt(c)\n"
   ]
  },
  {
   "cell_type": "code",
   "execution_count": 27,
   "metadata": {},
   "outputs": [
    {
     "name": "stdout",
     "output_type": "stream",
     "text": [
      "(2, 'dd', 2.)\n"
     ]
    }
   ],
   "source": [
    "#16 crea un record array desde un lista (flat) de arrays\n",
    "\n",
    "x1=np.array([1,2,3,4])\n",
    "x2=np.array(['a','dd','xyz','12'])\n",
    "x3=np.array([1.1,2,3,4])\n",
    "r = np.core.records.fromarrays([x1,x2,x3],names='a,b,c')\n",
    "print(r[1])\n"
   ]
  },
  {
   "cell_type": "code",
   "execution_count": 28,
   "metadata": {},
   "outputs": [
    {
     "name": "stdout",
     "output_type": "stream",
     "text": [
      "(456, 'dbe', 1.2)\n"
     ]
    }
   ],
   "source": [
    "#17 crea a un recarray dsede una lista de records in forma de texto\n",
    "\n",
    "r=np.core.records.fromrecords([(456,'dbe',1.2),(2,'de',1.3)],\n",
    "names='col1,col2,col3')\n",
    "print(r[0])"
   ]
  },
  {
   "cell_type": "code",
   "execution_count": 29,
   "metadata": {},
   "outputs": [
    {
     "data": {
      "text/plain": [
       "array([(1.06853059e-311,        130, b''),\n",
       "       (0.00000000e+000,          0, b''),\n",
       "       (1.38392195e-142, 1918989427, b'ted\":'),\n",
       "       (9.15558397e-072, 1412837677, b'21:28'),\n",
       "       (2.58454752e-057,  576336952, b',\"dep'),\n",
       "       (3.29217421e+180, 1701666675, b't\":tr'),\n",
       "       (5.60482739e+199,  975332718, b'\"aa46'),\n",
       "       (1.24502100e-047, 1647586662, b'3b-a0'),\n",
       "       (4.08416745e+179,  828586341, b'497\",'),\n",
       "       (9.97328607e-143, 1919230522, b'ror\"}')],\n",
       "      dtype=[('f0', '<f8'), ('f1', '<i4'), ('f2', 'S5')])"
      ]
     },
     "execution_count": 29,
     "metadata": {},
     "output_type": "execute_result"
    }
   ],
   "source": [
    "#18 crea un array desde un archivo de data binario\n",
    "\n",
    "from tempfile import TemporaryFile\n",
    "a = np.empty(10,dtype='f8,i4,a5')\n",
    "a\n"
   ]
  },
  {
   "cell_type": "code",
   "execution_count": 30,
   "metadata": {},
   "outputs": [
    {
     "data": {
      "text/plain": [
       "array([0, 1, 2])"
      ]
     },
     "execution_count": 30,
     "metadata": {},
     "output_type": "execute_result"
    }
   ],
   "source": [
    "#19  regresa valores espaciados sin un intervalo\n",
    "\n",
    "np.arange(3)\n",
    "\n"
   ]
  },
  {
   "cell_type": "code",
   "execution_count": 34,
   "metadata": {},
   "outputs": [
    {
     "data": {
      "text/plain": [
       "array([2.        , 2.42857143, 2.85714286, 3.28571429, 3.71428571,\n",
       "       4.14285714, 4.57142857, 5.        ])"
      ]
     },
     "execution_count": 34,
     "metadata": {},
     "output_type": "execute_result"
    }
   ],
   "source": [
    "#20  regresa valores espaciados sobre un intervalo especifico\n",
    "\n",
    "np.linspace(2.0, 5.0, num=8)\n"
   ]
  },
  {
   "cell_type": "code",
   "execution_count": 35,
   "metadata": {},
   "outputs": [
    {
     "data": {
      "text/plain": [
       "array([ 100.        ,  215.443469  ,  464.15888336, 1000.        ])"
      ]
     },
     "execution_count": 35,
     "metadata": {},
     "output_type": "execute_result"
    }
   ],
   "source": [
    "#21 regresa numeros espaciados en escala logaritmica\n",
    "\n",
    "np.logspace(2.0, 3.0, num=4)\n"
   ]
  },
  {
   "cell_type": "code",
   "execution_count": 36,
   "metadata": {},
   "outputs": [
    {
     "data": {
      "text/plain": [
       "array([  1.        ,   5.62341325,  31.6227766 , 177.827941  ])"
      ]
     },
     "execution_count": 36,
     "metadata": {},
     "output_type": "execute_result"
    }
   ],
   "source": [
    "#22 regresa numeros espaciados en escala logaritmica( progresion geometrica)\n",
    "\n",
    "np.geomspace(1, 1000, num=4, endpoint=False)\n"
   ]
  },
  {
   "cell_type": "code",
   "execution_count": 37,
   "metadata": {},
   "outputs": [
    {
     "data": {
      "text/plain": [
       "array([[0. , 0.5, 1. ],\n",
       "       [0. , 0.5, 1. ]])"
      ]
     },
     "execution_count": 37,
     "metadata": {},
     "output_type": "execute_result"
    }
   ],
   "source": [
    "#23 regresa cordinate vectors desde cordinate vectors\n",
    "\n",
    "nx, ny = (3, 2)\n",
    "x = np.linspace(0, 1, nx)\n",
    "y = np.linspace(0, 1, ny)\n",
    "xv, yv = np.meshgrid(x, y)\n",
    "xv\n"
   ]
  },
  {
   "cell_type": "code",
   "execution_count": 39,
   "metadata": {},
   "outputs": [
    {
     "data": {
      "text/plain": [
       "array([[[0, 0, 0, 0, 0],\n",
       "        [1, 1, 1, 1, 1],\n",
       "        [2, 2, 2, 2, 2],\n",
       "        [3, 3, 3, 3, 3],\n",
       "        [4, 4, 4, 4, 4]],\n",
       "\n",
       "       [[0, 1, 2, 3, 4],\n",
       "        [0, 1, 2, 3, 4],\n",
       "        [0, 1, 2, 3, 4],\n",
       "        [0, 1, 2, 3, 4],\n",
       "        [0, 1, 2, 3, 4]]])"
      ]
     },
     "execution_count": 39,
     "metadata": {},
     "output_type": "execute_result"
    }
   ],
   "source": [
    "#24  instancia de nd_grid que regresa un denso multidimensional \"meshgrid\"\n",
    "\n",
    "np.mgrid[0:5,0:5]\n"
   ]
  },
  {
   "cell_type": "code",
   "execution_count": 40,
   "metadata": {},
   "outputs": [
    {
     "data": {
      "text/plain": [
       "array([-1. , -0.5,  0. ,  0.5,  1. ])"
      ]
     },
     "execution_count": 40,
     "metadata": {},
     "output_type": "execute_result"
    }
   ],
   "source": [
    "#25 instancia de nd_grid que regresa un open multidimensional \"meshgrid\"\n",
    "from numpy import ogrid\n",
    "ogrid[-1:1:5j]\n"
   ]
  },
  {
   "cell_type": "code",
   "execution_count": 41,
   "metadata": {},
   "outputs": [
    {
     "data": {
      "text/plain": [
       "array([0, 4, 8])"
      ]
     },
     "execution_count": 41,
     "metadata": {},
     "output_type": "execute_result"
    }
   ],
   "source": [
    "#26 extrae una diagonal o un array diagonalizado\n",
    "x = np.arange(9).reshape((3,3))\n",
    "x\n",
    "np.diag(x)"
   ]
  },
  {
   "cell_type": "code",
   "execution_count": 42,
   "metadata": {},
   "outputs": [
    {
     "data": {
      "text/plain": [
       "array([[1, 0, 0, 0],\n",
       "       [0, 2, 0, 0],\n",
       "       [0, 0, 3, 0],\n",
       "       [0, 0, 0, 4]])"
      ]
     },
     "execution_count": 42,
     "metadata": {},
     "output_type": "execute_result"
    }
   ],
   "source": [
    "#27  crea array bidimensional con el input flattenado como diagonal\n",
    "np.diagflat([[1,2], [3,4]])\n",
    "\n"
   ]
  },
  {
   "cell_type": "code",
   "execution_count": 45,
   "metadata": {},
   "outputs": [
    {
     "data": {
      "text/plain": [
       "array([[1, 1, 0, 0, 0],\n",
       "       [1, 1, 1, 0, 0],\n",
       "       [1, 1, 1, 1, 0]])"
      ]
     },
     "execution_count": 45,
     "metadata": {},
     "output_type": "execute_result"
    }
   ],
   "source": [
    "#28 array con los unos hasta abajo \n",
    "np.tri(3, 5, 1, dtype=int)\n"
   ]
  },
  {
   "cell_type": "code",
   "execution_count": 46,
   "metadata": {},
   "outputs": [
    {
     "data": {
      "text/plain": [
       "array([[ 0,  0,  0],\n",
       "       [ 4,  0,  0],\n",
       "       [ 7,  8,  0],\n",
       "       [10, 11, 12]])"
      ]
     },
     "execution_count": 46,
     "metadata": {},
     "output_type": "execute_result"
    }
   ],
   "source": [
    "#29 regresa el triangulo inferior de una matriz\n",
    "np.tril([[1,2,3],[4,5,6],[7,8,9],[10,11,12]], -1)\n"
   ]
  },
  {
   "cell_type": "code",
   "execution_count": 47,
   "metadata": {},
   "outputs": [
    {
     "data": {
      "text/plain": [
       "array([[ 1,  2,  3],\n",
       "       [ 4,  5,  6],\n",
       "       [ 0,  8,  9],\n",
       "       [ 0,  0, 12]])"
      ]
     },
     "execution_count": 47,
     "metadata": {},
     "output_type": "execute_result"
    }
   ],
   "source": [
    "#30 regersa el triangulo superior de una matiz\n",
    "np.triu([[1,2,3],[4,5,6],[7,8,9],[10,11,12]], -1)"
   ]
  },
  {
   "cell_type": "code",
   "execution_count": 50,
   "metadata": {},
   "outputs": [
    {
     "data": {
      "text/plain": [
       "array([[ 1,  1,  1],\n",
       "       [ 4,  2,  1],\n",
       "       [ 9,  3,  1],\n",
       "       [25,  5,  1]])"
      ]
     },
     "execution_count": 50,
     "metadata": {},
     "output_type": "execute_result"
    }
   ],
   "source": [
    "#31 genera una matrix vandermode\n",
    "x = np.array([1, 2, 3, 5])\n",
    "N = 3\n",
    "np.vander(x, N)\n"
   ]
  },
  {
   "cell_type": "code",
   "execution_count": 53,
   "metadata": {},
   "outputs": [
    {
     "data": {
      "text/plain": [
       "matrix([[5, 2],\n",
       "        [3, 4]])"
      ]
     },
     "execution_count": 53,
     "metadata": {},
     "output_type": "execute_result"
    }
   ],
   "source": [
    "#32 interpreta el input como una matriz\n",
    "\n",
    "x = np.array([[1, 2], [3, 4]])\n",
    "m = np.asmatrix(x)\n",
    "x[0,0] = 5\n",
    "m"
   ]
  },
  {
   "cell_type": "code",
   "execution_count": 55,
   "metadata": {},
   "outputs": [
    {
     "data": {
      "text/plain": [
       "matrix([[1, 1, 2, 2],\n",
       "        [1, 1, 2, 2],\n",
       "        [3, 4, 7, 8],\n",
       "        [5, 6, 9, 0]])"
      ]
     },
     "execution_count": 55,
     "metadata": {},
     "output_type": "execute_result"
    }
   ],
   "source": [
    "#33 crea una matriz desde un string\n",
    "\n",
    "A = np.mat('1 1; 1 1')\n",
    "B = np.mat('2 2; 2 2')\n",
    "C = np.mat('3 4; 5 6')\n",
    "D = np.mat('7 8; 9 0')\n",
    "\n",
    "np.bmat([[A,B],[C,D]])"
   ]
  },
  {
   "cell_type": "code",
   "execution_count": 56,
   "metadata": {},
   "outputs": [],
   "source": [
    "#34 copia los valores desde un array hacia otro\n",
    "#numpy.copyto(dst, src, casting='same_kind', where=True)"
   ]
  },
  {
   "cell_type": "code",
   "execution_count": 57,
   "metadata": {},
   "outputs": [
    {
     "data": {
      "text/plain": [
       "(3, 3)"
      ]
     },
     "execution_count": 57,
     "metadata": {},
     "output_type": "execute_result"
    }
   ],
   "source": [
    "#35 regresa el shape de un array\n",
    "np.shape(np.eye(3))"
   ]
  },
  {
   "cell_type": "code",
   "execution_count": 58,
   "metadata": {},
   "outputs": [
    {
     "data": {
      "text/plain": [
       "array([[0, 1, 2],\n",
       "       [3, 4, 5]])"
      ]
     },
     "execution_count": 58,
     "metadata": {},
     "output_type": "execute_result"
    }
   ],
   "source": [
    "#36 da un nuevo shape a un array que no cambia datos\n",
    "\n",
    "a = np.arange(6).reshape((3, 2))\n",
    "a\n",
    "np.reshape(a, (2, 3)) # C-like index ordering\n"
   ]
  },
  {
   "cell_type": "code",
   "execution_count": 59,
   "metadata": {},
   "outputs": [
    {
     "data": {
      "text/plain": [
       "array([1, 2, 3, 4, 5, 6])"
      ]
     },
     "execution_count": 59,
     "metadata": {},
     "output_type": "execute_result"
    }
   ],
   "source": [
    "#37 regresa un array contiguous flattened\n",
    "\n",
    "x = np.array([[1, 2, 3], [4, 5, 6]])\n",
    "np.ravel(x)\n"
   ]
  },
  {
   "cell_type": "code",
   "execution_count": 60,
   "metadata": {},
   "outputs": [
    {
     "data": {
      "text/plain": [
       "array([[1, 2, 3],\n",
       "       [4, 5, 6]])"
      ]
     },
     "execution_count": 60,
     "metadata": {},
     "output_type": "execute_result"
    }
   ],
   "source": [
    "#38 regresa la copia d eun array collapsado en una dimension\n",
    "x = np.arange(1, 7).reshape(2, 3)\n",
    "x.flat[3]\n",
    "\n",
    "x\n"
   ]
  },
  {
   "cell_type": "code",
   "execution_count": 62,
   "metadata": {},
   "outputs": [
    {
     "data": {
      "text/plain": [
       "array([1, 2, 5, 9, 3, 4])"
      ]
     },
     "execution_count": 62,
     "metadata": {},
     "output_type": "execute_result"
    }
   ],
   "source": [
    "#39 regresa una copia de un array collapsado en una dimension\n",
    "a = np.array([[1,2,5], [9,3,4]])\n",
    "a.flatten()"
   ]
  },
  {
   "cell_type": "code",
   "execution_count": 63,
   "metadata": {},
   "outputs": [
    {
     "data": {
      "text/plain": [
       "(4, 5, 3)"
      ]
     },
     "execution_count": 63,
     "metadata": {},
     "output_type": "execute_result"
    }
   ],
   "source": [
    "#40 mueve los ejes de un array en nuevas posiciones\n",
    "x = np.zeros((3, 4, 5))\n",
    "np.moveaxis(x, 0, -1).shape"
   ]
  },
  {
   "cell_type": "code",
   "execution_count": 64,
   "metadata": {},
   "outputs": [
    {
     "data": {
      "text/plain": [
       "(3, 6, 4, 5)"
      ]
     },
     "execution_count": 64,
     "metadata": {},
     "output_type": "execute_result"
    }
   ],
   "source": [
    "#41 rola el eje al reves, hasta que asiente en la nueva posicion\n",
    "a = np.ones((3,4,5,6))\n",
    "np.rollaxis(a, 3, 1).shape\n"
   ]
  },
  {
   "cell_type": "code",
   "execution_count": 65,
   "metadata": {},
   "outputs": [
    {
     "data": {
      "text/plain": [
       "array([[1., 3.],\n",
       "       [2., 4.]])"
      ]
     },
     "execution_count": 65,
     "metadata": {},
     "output_type": "execute_result"
    }
   ],
   "source": [
    "#42 transpone el array\n",
    "x = np.array([[1.,2.],[3.,4.]])\n",
    "x.T"
   ]
  },
  {
   "cell_type": "code",
   "execution_count": 66,
   "metadata": {},
   "outputs": [
    {
     "data": {
      "text/plain": [
       "array([[0, 2],\n",
       "       [1, 3]])"
      ]
     },
     "execution_count": 66,
     "metadata": {},
     "output_type": "execute_result"
    }
   ],
   "source": [
    "# 43 permuta ls ejes de un array, regresa la modificada\n",
    "x = np.arange(4).reshape((2,2))\n",
    "np.transpose(x)\n"
   ]
  },
  {
   "cell_type": "code",
   "execution_count": 67,
   "metadata": {},
   "outputs": [
    {
     "data": {
      "text/plain": [
       "array([[[3.]]])"
      ]
     },
     "execution_count": 67,
     "metadata": {},
     "output_type": "execute_result"
    }
   ],
   "source": [
    "#44 ve los inputs como array con almenos tres dimensiones\n",
    "np.atleast_3d(3.0)\n"
   ]
  },
  {
   "cell_type": "code",
   "execution_count": 69,
   "metadata": {},
   "outputs": [
    {
     "data": {
      "text/plain": [
       "array([[5., 6., 7.],\n",
       "       [6., 7., 8.],\n",
       "       [7., 8., 9.]])"
      ]
     },
     "execution_count": 69,
     "metadata": {},
     "output_type": "execute_result"
    }
   ],
   "source": [
    "#45 produce un ojeto que hace copia con un broadcasting\n",
    "x = np.array([[1], [2], [3]])\n",
    "y = np.array([4, 5, 6])\n",
    "b = np.broadcast(x, y)\n",
    "out = np.empty(b.shape)\n",
    "out.flat = [u+v for (u,v) in b]\n",
    "out\n"
   ]
  },
  {
   "cell_type": "code",
   "execution_count": 70,
   "metadata": {},
   "outputs": [
    {
     "data": {
      "text/plain": [
       "[array([[1, 2, 3],\n",
       "        [1, 2, 3]]), array([[4, 4, 4],\n",
       "        [5, 5, 5]])]"
      ]
     },
     "execution_count": 70,
     "metadata": {},
     "output_type": "execute_result"
    }
   ],
   "source": [
    "#46 broadcastea cualquier numero de array encontra de ellos mismos\n",
    "x = np.array([[1,2,3]])\n",
    "y = np.array([[4],[5]])\n",
    "np.broadcast_arrays(x, y)\n"
   ]
  },
  {
   "cell_type": "code",
   "execution_count": 73,
   "metadata": {},
   "outputs": [
    {
     "name": "stdout",
     "output_type": "stream",
     "text": [
      "(1, 3, 1)\n"
     ]
    },
    {
     "data": {
      "text/plain": [
       "(3,)"
      ]
     },
     "execution_count": 73,
     "metadata": {},
     "output_type": "execute_result"
    }
   ],
   "source": [
    "#47 remueve una dimension en la entrada desde el shape de un array\n",
    "x = np.array([[[0], [1], [2]]])\n",
    "print(x.shape)\n",
    "np.squeeze(x).shape\n"
   ]
  },
  {
   "cell_type": "code",
   "execution_count": 74,
   "metadata": {},
   "outputs": [
    {
     "data": {
      "text/plain": [
       "array([1, 2])"
      ]
     },
     "execution_count": 74,
     "metadata": {},
     "output_type": "execute_result"
    }
   ],
   "source": [
    "#48 convierte el input a un array\n",
    "a = [1, 2]\n",
    "np.asarray(a)\n"
   ]
  },
  {
   "cell_type": "code",
   "execution_count": 75,
   "metadata": {},
   "outputs": [
    {
     "data": {
      "text/plain": [
       "array([1, 2])"
      ]
     },
     "execution_count": 75,
     "metadata": {},
     "output_type": "execute_result"
    }
   ],
   "source": [
    "#49 convierte el inputo a un narray, pero pasa ndarray sobre las subclaes\n",
    "a = [1, 2]\n",
    "np.asanyarray(a)\n"
   ]
  },
  {
   "cell_type": "code",
   "execution_count": 76,
   "metadata": {},
   "outputs": [
    {
     "data": {
      "text/plain": [
       "matrix([[5, 2],\n",
       "        [3, 4]])"
      ]
     },
     "execution_count": 76,
     "metadata": {},
     "output_type": "execute_result"
    }
   ],
   "source": [
    "#50 interpreta el input como matrix\n",
    "\n",
    "x = np.array([[1, 2], [3, 4]])\n",
    "m = np.asmatrix(x)\n",
    "x[0,0] = 5\n",
    "m\n",
    "\n"
   ]
  },
  {
   "cell_type": "code",
   "execution_count": 78,
   "metadata": {},
   "outputs": [
    {
     "data": {
      "text/plain": [
       "89"
      ]
     },
     "execution_count": 78,
     "metadata": {},
     "output_type": "execute_result"
    }
   ],
   "source": [
    "#51 convierte un array de tamaño 1 a su escalar equivalente\n",
    "np.asscalar(np.array([89]))"
   ]
  },
  {
   "cell_type": "code",
   "execution_count": 79,
   "metadata": {},
   "outputs": [
    {
     "data": {
      "text/plain": [
       "  C_CONTIGUOUS : False\n",
       "  F_CONTIGUOUS : True\n",
       "  OWNDATA : True\n",
       "  WRITEABLE : True\n",
       "  ALIGNED : True\n",
       "  WRITEBACKIFCOPY : False\n",
       "  UPDATEIFCOPY : False"
      ]
     },
     "execution_count": 79,
     "metadata": {},
     "output_type": "execute_result"
    }
   ],
   "source": [
    "#52 regresa un ndarray de un tipo que satisface el requerido\n",
    "\n",
    "\n",
    "x = np.arange(6).reshape(2,3)\n",
    "x.flags\n",
    "C_CONTIGUOUS : True\n",
    "F_CONTIGUOUS : False\n",
    "OWNDATA : False\n",
    "WRITEABLE : True\n",
    "ALIGNED : True\n",
    "WRITEBACKIFCOPY : False\n",
    "UPDATEIFCOPY : False\n",
    "\n",
    "y = np.require(x, dtype=np.float32, requirements=['A', 'O', 'W', 'F'])\n",
    "y.flags\n"
   ]
  },
  {
   "cell_type": "code",
   "execution_count": 80,
   "metadata": {},
   "outputs": [
    {
     "data": {
      "text/plain": [
       "array([[1, 2],\n",
       "       [3, 4],\n",
       "       [5, 6]])"
      ]
     },
     "execution_count": 80,
     "metadata": {},
     "output_type": "execute_result"
    }
   ],
   "source": [
    "#53 concatena un secuencia de arrays junto a un eje existente\n",
    "a = np.array([[1, 2], [3, 4]])\n",
    "b = np.array([[5, 6]])\n",
    "np.concatenate((a, b), axis=0)"
   ]
  },
  {
   "cell_type": "code",
   "execution_count": 81,
   "metadata": {},
   "outputs": [
    {
     "data": {
      "text/plain": [
       "array([[1, 2],\n",
       "       [2, 3],\n",
       "       [3, 4]])"
      ]
     },
     "execution_count": 81,
     "metadata": {},
     "output_type": "execute_result"
    }
   ],
   "source": [
    "#54 apila array unidimensionales en bidimensionales\n",
    "a = np.array((1,2,3))\n",
    "b = np.array((2,3,4))\n",
    "np.column_stack((a,b))\n"
   ]
  },
  {
   "cell_type": "code",
   "execution_count": 82,
   "metadata": {},
   "outputs": [
    {
     "data": {
      "text/plain": [
       "array([1, 2, 3, 2, 3, 4])"
      ]
     },
     "execution_count": 82,
     "metadata": {},
     "output_type": "execute_result"
    }
   ],
   "source": [
    "#55 apila array horizontalmente\n",
    "a = np.array((1,2,3))\n",
    "b = np.array((2,3,4))\n",
    "np.hstack((a,b))\n"
   ]
  },
  {
   "cell_type": "code",
   "execution_count": 84,
   "metadata": {},
   "outputs": [
    {
     "data": {
      "text/plain": [
       "array([1, 2, 3])"
      ]
     },
     "execution_count": 84,
     "metadata": {},
     "output_type": "execute_result"
    }
   ],
   "source": [
    "#56 ensambla un nd-array desde una lista nesteada de blocks\n",
    "A = np.eye(2) * 2\n",
    "B = np.eye(3) * 3\n",
    "np.block([[A,np.zeros((2, 3))],[np.ones((3, 2)),B]])\n",
    "np.block([1, 2, 3])"
   ]
  },
  {
   "cell_type": "code",
   "execution_count": 85,
   "metadata": {},
   "outputs": [
    {
     "data": {
      "text/plain": [
       "[array([0., 1., 2.]), array([3., 4., 5.]), array([6., 7.])]"
      ]
     },
     "execution_count": 85,
     "metadata": {},
     "output_type": "execute_result"
    }
   ],
   "source": [
    "#57 separa un array en multiples subarrays\n",
    "x = np.arange(8.0)\n",
    "np.array_split(x, 3)\n"
   ]
  },
  {
   "cell_type": "code",
   "execution_count": 86,
   "metadata": {},
   "outputs": [
    {
     "data": {
      "text/plain": [
       "[array([[[0., 1.]],\n",
       " \n",
       "        [[4., 5.]]]), array([[[2., 3.]],\n",
       " \n",
       "        [[6., 7.]]])]"
      ]
     },
     "execution_count": 86,
     "metadata": {},
     "output_type": "execute_result"
    }
   ],
   "source": [
    "#58 separa un array en multiples subarrays de igual tamaño\n",
    "x = np.arange(8.0).reshape(2, 2, 2)\n",
    "x\n",
    "np.hsplit(x, 2)"
   ]
  },
  {
   "cell_type": "code",
   "execution_count": 88,
   "metadata": {},
   "outputs": [
    {
     "data": {
      "text/plain": [
       "array([0, 1, 2, 0, 1, 2, 0, 1, 2, 0, 1, 2, 0, 1, 2])"
      ]
     },
     "execution_count": 88,
     "metadata": {},
     "output_type": "execute_result"
    }
   ],
   "source": [
    "#59 hace un array repitiendo A el numero de veces pedido\n",
    "a = np.array([0, 1, 2])\n",
    "np.tile(a, 5)"
   ]
  },
  {
   "cell_type": "code",
   "execution_count": 89,
   "metadata": {},
   "outputs": [
    {
     "data": {
      "text/plain": [
       "array([[0, 1, 2],\n",
       "       [3, 0, 1]])"
      ]
     },
     "execution_count": 89,
     "metadata": {},
     "output_type": "execute_result"
    }
   ],
   "source": [
    "#60 regresa un nuevo array con una shape especifica\n",
    "a=np.array([[0,1],[2,3]])\n",
    "np.resize(a,(2,3))\n"
   ]
  },
  {
   "cell_type": "code",
   "execution_count": 90,
   "metadata": {},
   "outputs": [
    {
     "data": {
      "text/plain": [
       "array([[[4, 5],\n",
       "        [6, 7]],\n",
       "\n",
       "       [[0, 1],\n",
       "        [2, 3]]])"
      ]
     },
     "execution_count": 90,
     "metadata": {},
     "output_type": "execute_result"
    }
   ],
   "source": [
    "#61 revierte el orden de los elementos en un array dado el eje\n",
    "A = np.arange(8).reshape((2,2,2))\n",
    "A\n",
    "np.flip(A, 0)\n"
   ]
  },
  {
   "cell_type": "code",
   "execution_count": 91,
   "metadata": {},
   "outputs": [
    {
     "data": {
      "text/plain": [
       "array([[0, 1, 2],\n",
       "       [3, 4, 5]])"
      ]
     },
     "execution_count": 91,
     "metadata": {},
     "output_type": "execute_result"
    }
   ],
   "source": [
    "#61  da un nuevo shape hacia un array sin cambiar su data\n",
    "a = np.arange(6).reshape((3, 2))\n",
    "np.reshape(a, (2, 3)) \n"
   ]
  },
  {
   "cell_type": "code",
   "execution_count": 92,
   "metadata": {},
   "outputs": [
    {
     "data": {
      "text/plain": [
       "1"
      ]
     },
     "execution_count": 92,
     "metadata": {},
     "output_type": "execute_result"
    }
   ],
   "source": [
    "#62 computa de bit-wise AND dos elementos de un array wise\n",
    "\n",
    "np.bitwise_and(13, 17)\n"
   ]
  },
  {
   "cell_type": "code",
   "execution_count": 93,
   "metadata": {},
   "outputs": [
    {
     "data": {
      "text/plain": [
       "12"
      ]
     },
     "execution_count": 93,
     "metadata": {},
     "output_type": "execute_result"
    }
   ],
   "source": [
    "np.bitwise_and(14, 13)\n"
   ]
  },
  {
   "cell_type": "code",
   "execution_count": 94,
   "metadata": {},
   "outputs": [
    {
     "data": {
      "text/plain": [
       "array([[[160],\n",
       "        [ 64]],\n",
       "\n",
       "       [[192],\n",
       "        [ 32]]], dtype=uint8)"
      ]
     },
     "execution_count": 94,
     "metadata": {},
     "output_type": "execute_result"
    }
   ],
   "source": [
    "#63 empaqueta el elemento de un array binario en un array unitario\n",
    "\n",
    "a = np.array([[[1,0,1],[0,1,0]],[[1,1,0],[0,0,1]]])\n",
    "b = np.packbits(a, axis=-1)\n",
    "b\n"
   ]
  },
  {
   "cell_type": "code",
   "execution_count": 96,
   "metadata": {},
   "outputs": [
    {
     "data": {
      "text/plain": [
       "'1011001'"
      ]
     },
     "execution_count": 96,
     "metadata": {},
     "output_type": "execute_result"
    }
   ],
   "source": [
    "#64 regresa una representacion de el numero input como string\n",
    "np.binary_repr(89)\n"
   ]
  },
  {
   "cell_type": "code",
   "execution_count": 98,
   "metadata": {},
   "outputs": [
    {
     "data": {
      "text/plain": [
       "array([2, 4])"
      ]
     },
     "execution_count": 98,
     "metadata": {},
     "output_type": "execute_result"
    }
   ],
   "source": [
    "#64 regresa la suma de dos array\n",
    "x1 = np.array([1,2])\n",
    "x2 = np.array([1,2])\n",
    "np.add(x1,x2)"
   ]
  },
  {
   "cell_type": "code",
   "execution_count": 100,
   "metadata": {},
   "outputs": [
    {
     "data": {
      "text/plain": [
       "array([1, 4])"
      ]
     },
     "execution_count": 100,
     "metadata": {},
     "output_type": "execute_result"
    }
   ],
   "source": [
    "#65 regresa la multiplicacion de dos array\n",
    "x1 = np.array([1,2])\n",
    "x2 = np.array([1,2])\n",
    "np.multiply(x1,x2)\n"
   ]
  },
  {
   "cell_type": "code",
   "execution_count": 102,
   "metadata": {},
   "outputs": [
    {
     "data": {
      "text/plain": [
       "array([b'\\x81\\xc1\\x81\\xc1\\x81\\xc1', b'@@\\x81\\xc1@@',\n",
       "       b'\\x81\\x82\\xc2\\xc1\\xc2\\x82\\x81'], dtype='|S7')"
      ]
     },
     "execution_count": 102,
     "metadata": {},
     "output_type": "execute_result"
    }
   ],
   "source": [
    "#66 llama str.decode element-wise\n",
    "\n",
    "c = np.array(['aAaAaA', '  aA  ', 'abBABba'])\n",
    "np.char.encode(c, encoding='cp037')\n"
   ]
  },
  {
   "cell_type": "code",
   "execution_count": 103,
   "metadata": {},
   "outputs": [
    {
     "data": {
      "text/plain": [
       "array(['a1b c', '1bca', 'bca1'], dtype='<U5')"
      ]
     },
     "execution_count": 103,
     "metadata": {},
     "output_type": "execute_result"
    }
   ],
   "source": [
    "#67 regresa un array con los elementos cnvertidos a minisculas\n",
    "c = np.array(['A1B C', '1BCA', 'BCA1']); c\n",
    "\n",
    "np.char.lower(c)\n"
   ]
  },
  {
   "cell_type": "code",
   "execution_count": 108,
   "metadata": {},
   "outputs": [
    {
     "data": {
      "text/plain": [
       "array([b'aAaAaA', b'abBABb'], dtype='|S7')"
      ]
     },
     "execution_count": 108,
     "metadata": {},
     "output_type": "execute_result"
    }
   ],
   "source": [
    "#68 para cada elemento in a, regresa una copia con los caracteres removidos\n",
    "\n",
    "c = np.array(['aAaAaA', 'abBABba'], dtype='S7'); c\n",
    "\n",
    "np.char.rstrip(c, b'a')\n"
   ]
  },
  {
   "cell_type": "code",
   "execution_count": 110,
   "metadata": {},
   "outputs": [
    {
     "data": {
      "text/plain": [
       "array(['AaAaA', '  aA  ', 'bBABb'], dtype='<U7')"
      ]
     },
     "execution_count": 110,
     "metadata": {},
     "output_type": "execute_result"
    }
   ],
   "source": [
    "#69 para cada elemento in a, regresa una copia con los elementos (inicial y final)\n",
    "c = np.array(['aAaAaA', '  aA  ', 'abBABba'])\n",
    "\n",
    "np.char.strip(c, 'a')\n"
   ]
  },
  {
   "cell_type": "code",
   "execution_count": 111,
   "metadata": {},
   "outputs": [
    {
     "data": {
      "text/plain": [
       "array([b'A1b C', b'1B cA', b'B cA1', b'Ca1B'], dtype='|S5')"
      ]
     },
     "execution_count": 111,
     "metadata": {},
     "output_type": "execute_result"
    }
   ],
   "source": [
    "#70 regresa un una copia del string con mayusculas e viceversa\n",
    "c=np.array(['a1B c','1b Ca','b Ca1','cA1b'],'S5'); c\n",
    "\n",
    "np.char.swapcase(c)\n"
   ]
  },
  {
   "cell_type": "code",
   "execution_count": 112,
   "metadata": {},
   "outputs": [
    {
     "data": {
      "text/plain": [
       "array([ True,  True])"
      ]
     },
     "execution_count": 112,
     "metadata": {},
     "output_type": "execute_result"
    }
   ],
   "source": [
    "#71 recresa (x1==x2) element-wise\n",
    "x1 = np.array([1,2])\n",
    "x2 = np.array([1,2])\n",
    "np.equal(x1,x2)"
   ]
  },
  {
   "cell_type": "code",
   "execution_count": 113,
   "metadata": {},
   "outputs": [
    {
     "data": {
      "text/plain": [
       "array([False, False])"
      ]
     },
     "execution_count": 113,
     "metadata": {},
     "output_type": "execute_result"
    }
   ],
   "source": [
    "#72 regresa (x1 != x2)\n",
    "x1 = np.array([1,2])\n",
    "x2 = np.array([1,2])\n",
    "np.not_equal(x1,x2)"
   ]
  },
  {
   "cell_type": "code",
   "execution_count": 114,
   "metadata": {},
   "outputs": [
    {
     "data": {
      "text/plain": [
       "array([3, 1, 1])"
      ]
     },
     "execution_count": 114,
     "metadata": {},
     "output_type": "execute_result"
    }
   ],
   "source": [
    "#73 regresa un array con el numero de ocurrencias en los substrings\n",
    "c = np.array(['aAaAaA', '  aA  ', 'abBABba'])\n",
    "\n",
    "np.char.count(c, 'A')"
   ]
  },
  {
   "cell_type": "code",
   "execution_count": 118,
   "metadata": {},
   "outputs": [
    {
     "name": "stdout",
     "output_type": "stream",
     "text": [
      "[1 2] [1 3]\n"
     ]
    }
   ],
   "source": [
    "#guardar y cargar\n",
    "#numpy.save(file, arr, allow_pickle=True, fix_imports=True\n",
    "\n",
    "\n",
    "from tempfile import TemporaryFile\n",
    "outfile = TemporaryFile()\n",
    "x = np.arange(10)\n",
    "np.save(outfile, x)\n",
    "\n",
    "\n",
    "_ = outfile.seek(0) # se utiliza para simular apertura y cierre de archivos\n",
    "np.load(outfile)\n",
    "\n",
    "with open('test.npy', 'wb') as f: \n",
    "    np.save(f, np.array([1, 2]))\n",
    "    np.save(f, np.array([1, 3]))\n",
    "with open('test.npy', 'rb') as f:\n",
    "    a = np.load(f)\n",
    "    b = np.load(f)\n",
    "print(a, b)\n",
    "\n",
    "\n"
   ]
  },
  {
   "cell_type": "markdown",
   "metadata": {},
   "source": [
    "4. Crear una función llamada `estimacionMCO` que lea un archivo CSV con 7 columnas, que corresponden a las variables $(x_{1i}, \\ldots, x_{6i})$ y $y_i$. \n",
    "    - La función debe computar matricialmente los parámetros del modelo de regresión lineal: $y = X\\beta$. \n",
    "    - Estos parámetros deben ser devueltos como un arreglo de NumPy. \n",
    "\n",
    "    - Utilice la función de lectura de archivos de NumPy."
   ]
  },
  {
   "cell_type": "code",
   "execution_count": null,
   "metadata": {},
   "outputs": [],
   "source": [
    "def estimacionMCO:\n",
    "    X=np.\n",
    "    betas"
   ]
  }
 ],
 "metadata": {
  "kernelspec": {
   "display_name": "Python 3",
   "language": "python",
   "name": "python3"
  },
  "language_info": {
   "codemirror_mode": {
    "name": "ipython",
    "version": 3
   },
   "file_extension": ".py",
   "mimetype": "text/x-python",
   "name": "python",
   "nbconvert_exporter": "python",
   "pygments_lexer": "ipython3",
   "version": "3.7.4"
  }
 },
 "nbformat": 4,
 "nbformat_minor": 2
}
