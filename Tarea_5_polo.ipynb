{
 "cells": [
  {
   "cell_type": "markdown",
   "metadata": {},
   "source": [
    "# Tarea #6\n",
    "**Programacion I**"
   ]
  },
  {
   "cell_type": "markdown",
   "metadata": {},
   "source": [
    "## Ejercicio 1\n",
    "\n",
    "Ejecute el siguiente programa y explique su procedimiento y el porqué del resultado. "
   ]
  },
  {
   "cell_type": "code",
   "execution_count": 18,
   "metadata": {},
   "outputs": [
    {
     "ename": "RecursionError",
     "evalue": "maximum recursion depth exceeded",
     "output_type": "error",
     "traceback": [
      "\u001b[0;31m---------------------------------------------------------------------------\u001b[0m",
      "\u001b[0;31mRecursionError\u001b[0m                            Traceback (most recent call last)",
      "\u001b[0;32m<ipython-input-18-00d266b39dc6>\u001b[0m in \u001b[0;36m<module>\u001b[0;34m\u001b[0m\n\u001b[1;32m      2\u001b[0m     \u001b[0mf\u001b[0m\u001b[0;34m(\u001b[0m\u001b[0mf\u001b[0m\u001b[0;34m)\u001b[0m\u001b[0;34m\u001b[0m\u001b[0;34m\u001b[0m\u001b[0m\n\u001b[1;32m      3\u001b[0m \u001b[0;34m\u001b[0m\u001b[0m\n\u001b[0;32m----> 4\u001b[0;31m \u001b[0mRecusion\u001b[0m\u001b[0;34m(\u001b[0m\u001b[0mRecusion\u001b[0m\u001b[0;34m)\u001b[0m\u001b[0;34m\u001b[0m\u001b[0;34m\u001b[0m\u001b[0m\n\u001b[0m",
      "\u001b[0;32m<ipython-input-18-00d266b39dc6>\u001b[0m in \u001b[0;36mRecusion\u001b[0;34m(f)\u001b[0m\n\u001b[1;32m      1\u001b[0m \u001b[0;32mdef\u001b[0m \u001b[0mRecusion\u001b[0m\u001b[0;34m(\u001b[0m\u001b[0mf\u001b[0m\u001b[0;34m)\u001b[0m\u001b[0;34m:\u001b[0m\u001b[0;34m\u001b[0m\u001b[0;34m\u001b[0m\u001b[0m\n\u001b[0;32m----> 2\u001b[0;31m     \u001b[0mf\u001b[0m\u001b[0;34m(\u001b[0m\u001b[0mf\u001b[0m\u001b[0;34m)\u001b[0m\u001b[0;34m\u001b[0m\u001b[0;34m\u001b[0m\u001b[0m\n\u001b[0m\u001b[1;32m      3\u001b[0m \u001b[0;34m\u001b[0m\u001b[0m\n\u001b[1;32m      4\u001b[0m \u001b[0mRecusion\u001b[0m\u001b[0;34m(\u001b[0m\u001b[0mRecusion\u001b[0m\u001b[0;34m)\u001b[0m\u001b[0;34m\u001b[0m\u001b[0;34m\u001b[0m\u001b[0m\n",
      "... last 1 frames repeated, from the frame below ...\n",
      "\u001b[0;32m<ipython-input-18-00d266b39dc6>\u001b[0m in \u001b[0;36mRecusion\u001b[0;34m(f)\u001b[0m\n\u001b[1;32m      1\u001b[0m \u001b[0;32mdef\u001b[0m \u001b[0mRecusion\u001b[0m\u001b[0;34m(\u001b[0m\u001b[0mf\u001b[0m\u001b[0;34m)\u001b[0m\u001b[0;34m:\u001b[0m\u001b[0;34m\u001b[0m\u001b[0;34m\u001b[0m\u001b[0m\n\u001b[0;32m----> 2\u001b[0;31m     \u001b[0mf\u001b[0m\u001b[0;34m(\u001b[0m\u001b[0mf\u001b[0m\u001b[0;34m)\u001b[0m\u001b[0;34m\u001b[0m\u001b[0;34m\u001b[0m\u001b[0m\n\u001b[0m\u001b[1;32m      3\u001b[0m \u001b[0;34m\u001b[0m\u001b[0m\n\u001b[1;32m      4\u001b[0m \u001b[0mRecusion\u001b[0m\u001b[0;34m(\u001b[0m\u001b[0mRecusion\u001b[0m\u001b[0;34m)\u001b[0m\u001b[0;34m\u001b[0m\u001b[0;34m\u001b[0m\u001b[0m\n",
      "\u001b[0;31mRecursionError\u001b[0m: maximum recursion depth exceeded"
     ]
    }
   ],
   "source": [
    "def Recusion(f):\n",
    "    f(f)\n",
    "    \n",
    "Recusion(Recusion)"
   ]
  },
  {
   "cell_type": "code",
   "execution_count": null,
   "metadata": {},
   "outputs": [],
   "source": [
    "es un loop infinito dado que a la función Recusion se le ingresa Recusion y asi infinitamente"
   ]
  },
  {
   "cell_type": "markdown",
   "metadata": {},
   "source": [
    "## Ejercicio 2\n",
    "\n",
    "Vea el siguiente vídeo: <https://www.youtube.com/watch?v=qxRW5pDT2o4>  \n",
    "\n",
    "Complete el código siguiente para encontrar el máximo común divisor dado dos números enteros. \n",
    "\n",
    "Las condiciones básicas, son:"
   ]
  },
  {
   "cell_type": "markdown",
   "metadata": {},
   "source": [
    "Para dos números $a$ y $b$, tal que $b\\leq a$:\n",
    "* $mcd(a,0) = a$\n",
    "* Si $b\\vert a$ (divida enteramente), entonces $mcd(a,b)=b$\n",
    "* En otro caso, $mcd(a,b) = mcd(b,a \\,mod \\, b)$\n",
    "\n"
   ]
  },
  {
   "cell_type": "code",
   "execution_count": 22,
   "metadata": {},
   "outputs": [
    {
     "data": {
      "text/plain": [
       "7"
      ]
     },
     "execution_count": 22,
     "metadata": {},
     "output_type": "execute_result"
    }
   ],
   "source": [
    "def mcd(a,b):\n",
    "    '''Donde a >= b'''\n",
    "    if b == 0: #Encuentre la condición:\n",
    "        return a\n",
    "    elif a%b==0: #Añada la condición faltante:\n",
    "        return b #Añada el procedimiento faltante:\n",
    "    else:\n",
    "        return mcd(b,a%b)\n",
    "    \n",
    "mcd(49,14)\n",
    "    "
   ]
  },
  {
   "cell_type": "markdown",
   "metadata": {},
   "source": [
    "## Ejercicio 3\n",
    "\n",
    "Implemente un algoritmo recursivo para obtener la parte entera de la división entre dos números enteros. (Pista: Asocie con la resta)."
   ]
  },
  {
   "cell_type": "code",
   "execution_count": 14,
   "metadata": {},
   "outputs": [
    {
     "data": {
      "text/plain": [
       "10"
      ]
     },
     "execution_count": 14,
     "metadata": {},
     "output_type": "execute_result"
    }
   ],
   "source": [
    "def residuos(a,b):\n",
    "    if (b-a) == 0:\n",
    "        return 1\n",
    "    elif (b-a) < a:\n",
    "        return 1\n",
    "    else:\n",
    "        return 1 + residuos(a,(b-a)) #algoritmo recursivo\n",
    "\n",
    "residuos(9,90)"
   ]
  },
  {
   "cell_type": "markdown",
   "metadata": {},
   "source": [
    "# Ejercicio 4\n",
    "\n",
    "En el ejemplo de clase (Coordinate), modifique el método constructor para que verifique que los argumentos $x$ y $y$ sean flotantes.  "
   ]
  },
  {
   "cell_type": "code",
   "execution_count": 28,
   "metadata": {},
   "outputs": [
    {
     "data": {
      "text/plain": [
       "True"
      ]
     },
     "execution_count": 28,
     "metadata": {},
     "output_type": "execute_result"
    }
   ],
   "source": [
    "class Coordinate(object):\n",
    "    #define arrtibutes here (datos, funciones)\n",
    "    x_es_float = True\n",
    "    y_es_floay = True\n",
    "    #metodo constructor\n",
    "    def __init__ (self, x,y):\n",
    "        #como se quiere inicializar el objeto\n",
    "        self.x = float(x)\n",
    "        self.y = float(y)\n",
    "    def distance(self, other):\n",
    "        \"\"\" Returns the euclidean distance between two\n",
    "        points \"\"\"\n",
    "        x_diff_sq = (self.x - other.x)**2\n",
    "        y_diff_sq = (self.y - other.y)**2  \n",
    "        return (x_diff_sq + y_diff_sq)**0.5\n",
    "    def __Str__ (self):\n",
    "        return 'coordinate <%0.2f>, %0.2f' %(self.x, self.y)\n",
    "    def __add__ (self, other):\n",
    "        res_x = self.x + other.x\n",
    "        res_y = self.y + other.y\n",
    "        return coordinate(res_x, res_y)\n",
    "    def __len__ (self):\n",
    "        return 2\n",
    " \n",
    "    def verificar_float(self):\n",
    "        return self.x_es_float\n",
    "\n",
    "numero = Coordinate(4.45,5.56)\n",
    "numero.verificar_float()\n",
    "        "
   ]
  },
  {
   "cell_type": "code",
   "execution_count": null,
   "metadata": {},
   "outputs": [],
   "source": []
  },
  {
   "cell_type": "markdown",
   "metadata": {},
   "source": [
    "# Ejercicio 5\n",
    "\n",
    "1. Cree una clase llamada ``Persona``, que asigne una cadena a la propiedad ``nombre`` y un número entero a la propiedad ``edad``. Al imprimir el objeto, debe concatenar tanto el nombre con la edad. \n",
    "2. A la clase anterior, añada un método para sumar dos objetos de tipo ``Persona``. El resultado debe ser ambos nombres concatenados y la suma de ambas edades.\n",
    "3. Modifique la clase para que el objeto tenga otra propiedad llamada ``altura``. Cuando se solicite la longitud del objeto, muestre la altura. También debe modificar el método de impresión para que muestre la altura. ¿Qué pasa con el método de suma?\n",
    "\n"
   ]
  },
  {
   "cell_type": "code",
   "execution_count": null,
   "metadata": {},
   "outputs": [],
   "source": [
    "class Persona(object):\n",
    "    #como se quiere inicializar el objeto\n",
    "    def __init__ (self, nome,eta):\n",
    "        assert type(nome) == str and type (eta)==int \n",
    "        self.nome = nome\n",
    "        self.eta = eta\n",
    "    def __add__ (self, other):\n",
    "        add_persona_x = self.nome + self.eta\n",
    "        add_persona_y = other.nome + other.eta\n",
    "    def concatenar_nome_eta(self, nome ,eta):\n",
    "        dos_personas = add_persona_x + add_persona_y \n",
    "    \n",
    "nombre = Persona(pedro,23)\n",
    "    \n"
   ]
  },
  {
   "cell_type": "markdown",
   "metadata": {},
   "source": [
    "## Ejercicio 6\n",
    "\n",
    "encriptar mensaje\n",
    "encriptar(   ,s=3)\n",
    "cifrado César\n",
    "desencriptar(msg,5)"
   ]
  },
  {
   "cell_type": "code",
   "execution_count": null,
   "metadata": {},
   "outputs": [],
   "source": [
    "abc = 'abcdefghijklmnñopqrstuvwxyz'\n",
    "\n",
    "def cifrar(cadena, clave):\n",
    "    text_cifrado =''\n",
    "    for letra in cadena:\n",
    "        suma = abc.find(letra) + clave\n",
    "        modulo = int(suma) % len(abc)\n",
    "        text_cifrado = text_cifrado + str(abc[modulo])\n",
    "        return text_cifrado\n",
    "\n",
    "def decifrar(cadena, clave):\n",
    "    text_cifrado =''\n",
    "    for letra in cadena:\n",
    "        suma =abc.find(letra) + clave\n",
    "        modulo = int(suma) % len(abc)\n",
    "        text_cifrado = text_cifrado + str(abc[modulo])\n",
    "        return text_cifrado    \n",
    "    \n",
    "def main():\n",
    "    c = str(input('cadena a cifrar: ')).lower()\n",
    "    n = int(input('clave numerica: '))\n",
    "    print (cifrar(c,n))\n",
    "    cc = str(input('cadena a decifrar: ')).lower()\n",
    "    cn = int(input('clave numerica: '))\n",
    "    print (decifrar(cc,cn))\n",
    "\n",
    "main()\n",
    "    "
   ]
  },
  {
   "cell_type": "markdown",
   "metadata": {},
   "source": [
    "## Ejercicio 7\n",
    "\n",
    "comparar canastas 1 vs canasta 2  U(cerveza, ocio, ceviche) = formula de utilidad"
   ]
  },
  {
   "cell_type": "code",
   "execution_count": 17,
   "metadata": {},
   "outputs": [
    {
     "name": "stdout",
     "output_type": "stream",
     "text": [
      "segunda canasta genera mayor utilidad\n"
     ]
    }
   ],
   "source": [
    "class Basket (object):\n",
    "    def __init__(self, bienX, bienY, bienZ):\n",
    "        self.bienX = int(bienX)\n",
    "        self.bienY = int(bienY)\n",
    "        self.bienZ = int(bienZ)\n",
    "    def __eq__ (self, other):\n",
    "        utilityA = (self.bienX**0.3)*(self.bienY**0.5)*(self.bienZ**0.2)\n",
    "        utilityB = (other.bienX**0.4)*(other.bienY**0.3)*(other.bienZ**0.3)\n",
    "        return utilityA == utilityB\n",
    "    def __it__ (self, other):\n",
    "        utilityA = (self.bienX**0.3)*(self.bienY**0.5)*(self.bienZ**0.2)\n",
    "        utilityB = (other.bienX**0.4)*(other.bienY**0.3)*(other.bienZ**0.3)\n",
    "        return utilityA != utilityB\n",
    "\n",
    "bsk1 = Basket(20,10,30)\n",
    "bsk2 = Basket(30,25,5)\n",
    "\n",
    "if bsk1 == bsk2:\n",
    "    print('igual utilidad')\n",
    "elif bsk1 != bsk2:\n",
    "    print ('segunda canasta genera mayor utilidad')\n",
    "else:\n",
    "    print('primera canasta genera mayor utilidad')"
   ]
  },
  {
   "cell_type": "code",
   "execution_count": null,
   "metadata": {},
   "outputs": [],
   "source": []
  },
  {
   "cell_type": "code",
   "execution_count": null,
   "metadata": {},
   "outputs": [],
   "source": []
  }
 ],
 "metadata": {
  "kernelspec": {
   "display_name": "Python 3",
   "language": "python",
   "name": "python3"
  },
  "language_info": {
   "codemirror_mode": {
    "name": "ipython",
    "version": 3
   },
   "file_extension": ".py",
   "mimetype": "text/x-python",
   "name": "python",
   "nbconvert_exporter": "python",
   "pygments_lexer": "ipython3",
   "version": "3.7.4"
  }
 },
 "nbformat": 4,
 "nbformat_minor": 2
}
